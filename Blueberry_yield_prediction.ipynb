{
  "nbformat": 4,
  "nbformat_minor": 0,
  "metadata": {
    "colab": {
      "provenance": [],
      "authorship_tag": "ABX9TyNobQ36CamUaQhXhLyfjuus",
      "include_colab_link": true
    },
    "kernelspec": {
      "name": "python3",
      "display_name": "Python 3"
    },
    "language_info": {
      "name": "python"
    }
  },
  "cells": [
    {
      "cell_type": "markdown",
      "metadata": {
        "id": "view-in-github",
        "colab_type": "text"
      },
      "source": [
        "<a href=\"https://colab.research.google.com/github/mimomaina/Machinelearning001/blob/main/Blueberry_yield_prediction.ipynb\" target=\"_parent\"><img src=\"https://colab.research.google.com/assets/colab-badge.svg\" alt=\"Open In Colab\"/></a>"
      ]
    },
    {
      "cell_type": "code",
      "execution_count": null,
      "metadata": {
        "id": "KpjYn-AHf9EY"
      },
      "outputs": [],
      "source": [
        "import pandas as pd"
      ]
    },
    {
      "cell_type": "code",
      "source": [
        "df = pd.read_csv('/content/WildBlueberryPollinationSimulationData.csv')"
      ],
      "metadata": {
        "id": "vm7YCwu4gKTW"
      },
      "execution_count": null,
      "outputs": []
    },
    {
      "cell_type": "code",
      "source": [
        "df.info()"
      ],
      "metadata": {
        "id": "AloeSSFXgSjy",
        "outputId": "d8e0e9d7-9009-4414-e7d7-077b14a5ab9c",
        "colab": {
          "base_uri": "https://localhost:8080/"
        }
      },
      "execution_count": null,
      "outputs": [
        {
          "output_type": "stream",
          "name": "stdout",
          "text": [
            "<class 'pandas.core.frame.DataFrame'>\n",
            "RangeIndex: 777 entries, 0 to 776\n",
            "Data columns (total 18 columns):\n",
            " #   Column                Non-Null Count  Dtype  \n",
            "---  ------                --------------  -----  \n",
            " 0   Row#                  777 non-null    int64  \n",
            " 1   clonesize             777 non-null    float64\n",
            " 2   honeybee              777 non-null    float64\n",
            " 3   bumbles               777 non-null    float64\n",
            " 4   andrena               777 non-null    float64\n",
            " 5   osmia                 777 non-null    float64\n",
            " 6   MaxOfUpperTRange      777 non-null    float64\n",
            " 7   MinOfUpperTRange      777 non-null    float64\n",
            " 8   AverageOfUpperTRange  777 non-null    float64\n",
            " 9   MaxOfLowerTRange      777 non-null    float64\n",
            " 10  MinOfLowerTRange      777 non-null    float64\n",
            " 11  AverageOfLowerTRange  777 non-null    float64\n",
            " 12  RainingDays           777 non-null    float64\n",
            " 13  AverageRainingDays    777 non-null    float64\n",
            " 14  fruitset              777 non-null    float64\n",
            " 15  fruitmass             777 non-null    float64\n",
            " 16  seeds                 777 non-null    float64\n",
            " 17  yield                 777 non-null    float64\n",
            "dtypes: float64(17), int64(1)\n",
            "memory usage: 109.4 KB\n"
          ]
        }
      ]
    },
    {
      "cell_type": "code",
      "source": [],
      "metadata": {
        "id": "QrL9J1U1gUDw"
      },
      "execution_count": null,
      "outputs": []
    }
  ]
}