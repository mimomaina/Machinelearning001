{
  "nbformat": 4,
  "nbformat_minor": 0,
  "metadata": {
    "colab": {
      "provenance": [],
      "authorship_tag": "ABX9TyON6l6fxQwjiVAa6hhjCXAA",
      "include_colab_link": true
    },
    "kernelspec": {
      "name": "python3",
      "display_name": "Python 3"
    },
    "language_info": {
      "name": "python"
    }
  },
  "cells": [
    {
      "cell_type": "markdown",
      "metadata": {
        "id": "view-in-github",
        "colab_type": "text"
      },
      "source": [
        "<a href=\"https://colab.research.google.com/github/mimomaina/Machinelearning001/blob/main/Blueberry_yield_prediction.ipynb\" target=\"_parent\"><img src=\"https://colab.research.google.com/assets/colab-badge.svg\" alt=\"Open In Colab\"/></a>"
      ]
    },
    {
      "cell_type": "markdown",
      "source": [
        "## 1. Import libraries"
      ],
      "metadata": {
        "id": "RastaTqtSrB3"
      }
    },
    {
      "cell_type": "code",
      "execution_count": null,
      "metadata": {
        "id": "KpjYn-AHf9EY"
      },
      "outputs": [],
      "source": [
        "import pandas as pd\n",
        "import numpy as np\n",
        "import matplotlib.pyplot as plt\n",
        "import seaborn as sns\n",
        "from sklearn.model_selection import train_test_split\n",
        "from sklearn.linear_model import LinearRegression, Ridge, Lasso, ElasticNet\n",
        "from sklearn.preprocessing import StandardScaler, PolynomialFeatures\n",
        "from sklearn.pipeline import Pipeline\n",
        "from sklearn.metrics import mean_absolute_error\n",
        "import warnings\n",
        "warnings.filterwarnings('ignore')"
      ]
    },
    {
      "cell_type": "markdown",
      "source": [
        "# 2. Download data into colab"
      ],
      "metadata": {
        "id": "16ifIchxTOOP"
      }
    },
    {
      "cell_type": "code",
      "source": [
        "# Install Kaggle\n",
        "!pip install -q kaggle\n",
        "\n",
        "# Upload kaggle.json (your API token from https://kaggle.com/<your-username>/account)\n",
        "from google.colab import files\n",
        "files.upload()  # Upload kaggle.json here\n",
        "\n",
        "# Make directory and copy token\n",
        "!mkdir -p ~/.kaggle\n",
        "!cp kaggle.json ~/.kaggle/\n",
        "!chmod 600 ~/.kaggle/kaggle.json\n",
        "\n",
        "# Pull the competition data\n",
        "!kaggle competitions download -c blueberry-yield-zindua-machine-week-2-challenge\n",
        "\n",
        "# Unzip files\n",
        "!unzip blueberry-yield-zindua-machine-week-2-challenge.zip"
      ],
      "metadata": {
        "id": "QrL9J1U1gUDw",
        "colab": {
          "base_uri": "https://localhost:8080/",
          "height": 194
        },
        "outputId": "2e699a44-03f3-43a2-a934-8b82a1db3e1f"
      },
      "execution_count": 8,
      "outputs": [
        {
          "output_type": "display_data",
          "data": {
            "text/plain": [
              "<IPython.core.display.HTML object>"
            ],
            "text/html": [
              "\n",
              "     <input type=\"file\" id=\"files-0b925d26-30e6-4118-9178-33e637f48d48\" name=\"files[]\" multiple disabled\n",
              "        style=\"border:none\" />\n",
              "     <output id=\"result-0b925d26-30e6-4118-9178-33e637f48d48\">\n",
              "      Upload widget is only available when the cell has been executed in the\n",
              "      current browser session. Please rerun this cell to enable.\n",
              "      </output>\n",
              "      <script>// Copyright 2017 Google LLC\n",
              "//\n",
              "// Licensed under the Apache License, Version 2.0 (the \"License\");\n",
              "// you may not use this file except in compliance with the License.\n",
              "// You may obtain a copy of the License at\n",
              "//\n",
              "//      http://www.apache.org/licenses/LICENSE-2.0\n",
              "//\n",
              "// Unless required by applicable law or agreed to in writing, software\n",
              "// distributed under the License is distributed on an \"AS IS\" BASIS,\n",
              "// WITHOUT WARRANTIES OR CONDITIONS OF ANY KIND, either express or implied.\n",
              "// See the License for the specific language governing permissions and\n",
              "// limitations under the License.\n",
              "\n",
              "/**\n",
              " * @fileoverview Helpers for google.colab Python module.\n",
              " */\n",
              "(function(scope) {\n",
              "function span(text, styleAttributes = {}) {\n",
              "  const element = document.createElement('span');\n",
              "  element.textContent = text;\n",
              "  for (const key of Object.keys(styleAttributes)) {\n",
              "    element.style[key] = styleAttributes[key];\n",
              "  }\n",
              "  return element;\n",
              "}\n",
              "\n",
              "// Max number of bytes which will be uploaded at a time.\n",
              "const MAX_PAYLOAD_SIZE = 100 * 1024;\n",
              "\n",
              "function _uploadFiles(inputId, outputId) {\n",
              "  const steps = uploadFilesStep(inputId, outputId);\n",
              "  const outputElement = document.getElementById(outputId);\n",
              "  // Cache steps on the outputElement to make it available for the next call\n",
              "  // to uploadFilesContinue from Python.\n",
              "  outputElement.steps = steps;\n",
              "\n",
              "  return _uploadFilesContinue(outputId);\n",
              "}\n",
              "\n",
              "// This is roughly an async generator (not supported in the browser yet),\n",
              "// where there are multiple asynchronous steps and the Python side is going\n",
              "// to poll for completion of each step.\n",
              "// This uses a Promise to block the python side on completion of each step,\n",
              "// then passes the result of the previous step as the input to the next step.\n",
              "function _uploadFilesContinue(outputId) {\n",
              "  const outputElement = document.getElementById(outputId);\n",
              "  const steps = outputElement.steps;\n",
              "\n",
              "  const next = steps.next(outputElement.lastPromiseValue);\n",
              "  return Promise.resolve(next.value.promise).then((value) => {\n",
              "    // Cache the last promise value to make it available to the next\n",
              "    // step of the generator.\n",
              "    outputElement.lastPromiseValue = value;\n",
              "    return next.value.response;\n",
              "  });\n",
              "}\n",
              "\n",
              "/**\n",
              " * Generator function which is called between each async step of the upload\n",
              " * process.\n",
              " * @param {string} inputId Element ID of the input file picker element.\n",
              " * @param {string} outputId Element ID of the output display.\n",
              " * @return {!Iterable<!Object>} Iterable of next steps.\n",
              " */\n",
              "function* uploadFilesStep(inputId, outputId) {\n",
              "  const inputElement = document.getElementById(inputId);\n",
              "  inputElement.disabled = false;\n",
              "\n",
              "  const outputElement = document.getElementById(outputId);\n",
              "  outputElement.innerHTML = '';\n",
              "\n",
              "  const pickedPromise = new Promise((resolve) => {\n",
              "    inputElement.addEventListener('change', (e) => {\n",
              "      resolve(e.target.files);\n",
              "    });\n",
              "  });\n",
              "\n",
              "  const cancel = document.createElement('button');\n",
              "  inputElement.parentElement.appendChild(cancel);\n",
              "  cancel.textContent = 'Cancel upload';\n",
              "  const cancelPromise = new Promise((resolve) => {\n",
              "    cancel.onclick = () => {\n",
              "      resolve(null);\n",
              "    };\n",
              "  });\n",
              "\n",
              "  // Wait for the user to pick the files.\n",
              "  const files = yield {\n",
              "    promise: Promise.race([pickedPromise, cancelPromise]),\n",
              "    response: {\n",
              "      action: 'starting',\n",
              "    }\n",
              "  };\n",
              "\n",
              "  cancel.remove();\n",
              "\n",
              "  // Disable the input element since further picks are not allowed.\n",
              "  inputElement.disabled = true;\n",
              "\n",
              "  if (!files) {\n",
              "    return {\n",
              "      response: {\n",
              "        action: 'complete',\n",
              "      }\n",
              "    };\n",
              "  }\n",
              "\n",
              "  for (const file of files) {\n",
              "    const li = document.createElement('li');\n",
              "    li.append(span(file.name, {fontWeight: 'bold'}));\n",
              "    li.append(span(\n",
              "        `(${file.type || 'n/a'}) - ${file.size} bytes, ` +\n",
              "        `last modified: ${\n",
              "            file.lastModifiedDate ? file.lastModifiedDate.toLocaleDateString() :\n",
              "                                    'n/a'} - `));\n",
              "    const percent = span('0% done');\n",
              "    li.appendChild(percent);\n",
              "\n",
              "    outputElement.appendChild(li);\n",
              "\n",
              "    const fileDataPromise = new Promise((resolve) => {\n",
              "      const reader = new FileReader();\n",
              "      reader.onload = (e) => {\n",
              "        resolve(e.target.result);\n",
              "      };\n",
              "      reader.readAsArrayBuffer(file);\n",
              "    });\n",
              "    // Wait for the data to be ready.\n",
              "    let fileData = yield {\n",
              "      promise: fileDataPromise,\n",
              "      response: {\n",
              "        action: 'continue',\n",
              "      }\n",
              "    };\n",
              "\n",
              "    // Use a chunked sending to avoid message size limits. See b/62115660.\n",
              "    let position = 0;\n",
              "    do {\n",
              "      const length = Math.min(fileData.byteLength - position, MAX_PAYLOAD_SIZE);\n",
              "      const chunk = new Uint8Array(fileData, position, length);\n",
              "      position += length;\n",
              "\n",
              "      const base64 = btoa(String.fromCharCode.apply(null, chunk));\n",
              "      yield {\n",
              "        response: {\n",
              "          action: 'append',\n",
              "          file: file.name,\n",
              "          data: base64,\n",
              "        },\n",
              "      };\n",
              "\n",
              "      let percentDone = fileData.byteLength === 0 ?\n",
              "          100 :\n",
              "          Math.round((position / fileData.byteLength) * 100);\n",
              "      percent.textContent = `${percentDone}% done`;\n",
              "\n",
              "    } while (position < fileData.byteLength);\n",
              "  }\n",
              "\n",
              "  // All done.\n",
              "  yield {\n",
              "    response: {\n",
              "      action: 'complete',\n",
              "    }\n",
              "  };\n",
              "}\n",
              "\n",
              "scope.google = scope.google || {};\n",
              "scope.google.colab = scope.google.colab || {};\n",
              "scope.google.colab._files = {\n",
              "  _uploadFiles,\n",
              "  _uploadFilesContinue,\n",
              "};\n",
              "})(self);\n",
              "</script> "
            ]
          },
          "metadata": {}
        },
        {
          "output_type": "stream",
          "name": "stdout",
          "text": [
            "Saving kaggle.json to kaggle (1).json\n",
            "Downloading blueberry-yield-zindua-machine-week-2-challenge.zip to /content\n",
            "  0% 0.00/634k [00:00<?, ?B/s]\n",
            "100% 634k/634k [00:00<00:00, 598MB/s]\n",
            "Archive:  blueberry-yield-zindua-machine-week-2-challenge.zip\n",
            "  inflating: sample_submission.csv   \n",
            "  inflating: test.csv                \n",
            "  inflating: train.csv               \n"
          ]
        }
      ]
    },
    {
      "cell_type": "code",
      "source": [
        "# Load data\n",
        "train = pd.read_csv('train.csv')\n",
        "test = pd.read_csv('test.csv')\n"
      ],
      "metadata": {
        "id": "6Wieif3nTtxa"
      },
      "execution_count": 9,
      "outputs": []
    },
    {
      "cell_type": "code",
      "source": [
        "print(\"Training data shape:\", train.shape)\n",
        "print(\"Test data shape:\", test.shape)\n",
        "print(\"\\nTrain head:\")\n",
        "print(train.head())"
      ],
      "metadata": {
        "id": "cPe84TqpTujs",
        "colab": {
          "base_uri": "https://localhost:8080/"
        },
        "outputId": "d2b0c068-6fe8-4828-c256-f2416df28413"
      },
      "execution_count": 10,
      "outputs": [
        {
          "output_type": "stream",
          "name": "stdout",
          "text": [
            "Training data shape: (15289, 18)\n",
            "Test data shape: (10194, 17)\n",
            "\n",
            "Train head:\n",
            "   id  clonesize  honeybee  bumbles  andrena  osmia  MaxOfUpperTRange  \\\n",
            "0   0       25.0      0.50     0.25     0.75   0.50              69.7   \n",
            "1   1       25.0      0.50     0.25     0.50   0.50              69.7   \n",
            "2   2       12.5      0.25     0.25     0.63   0.63              86.0   \n",
            "3   3       12.5      0.25     0.25     0.63   0.50              77.4   \n",
            "4   4       25.0      0.50     0.25     0.63   0.63              77.4   \n",
            "\n",
            "   MinOfUpperTRange  AverageOfUpperTRange  MaxOfLowerTRange  MinOfLowerTRange  \\\n",
            "0              42.1                  58.2              50.2              24.3   \n",
            "1              42.1                  58.2              50.2              24.3   \n",
            "2              52.0                  71.9              62.0              30.0   \n",
            "3              46.8                  64.7              55.8              27.0   \n",
            "4              46.8                  64.7              55.8              27.0   \n",
            "\n",
            "   AverageOfLowerTRange  RainingDays  AverageRainingDays  fruitset  fruitmass  \\\n",
            "0                  41.2         24.0                0.39  0.425011   0.417545   \n",
            "1                  41.2         24.0                0.39  0.444908   0.422051   \n",
            "2                  50.8         24.0                0.39  0.552927   0.470853   \n",
            "3                  45.8         24.0                0.39  0.565976   0.478137   \n",
            "4                  45.8         24.0                0.39  0.579677   0.494165   \n",
            "\n",
            "       seeds       yield  \n",
            "0  32.460887  4476.81146  \n",
            "1  33.858317  5548.12201  \n",
            "2  38.341781  6869.77760  \n",
            "3  39.467561  6880.77590  \n",
            "4  40.484512  7479.93417  \n"
          ]
        }
      ]
    },
    {
      "cell_type": "markdown",
      "source": [
        "# 3. Data Preprocessing"
      ],
      "metadata": {
        "id": "olc6KF7kT_P4"
      }
    },
    {
      "cell_type": "code",
      "source": [
        "print(train.columns.tolist())"
      ],
      "metadata": {
        "colab": {
          "base_uri": "https://localhost:8080/"
        },
        "id": "CjYNN5DpcpBa",
        "outputId": "6d426439-2578-4bcb-872b-778f59c4f027"
      },
      "execution_count": 16,
      "outputs": [
        {
          "output_type": "stream",
          "name": "stdout",
          "text": [
            "['id', 'clonesize', 'honeybee', 'bumbles', 'andrena', 'osmia', 'MaxOfUpperTRange', 'MinOfUpperTRange', 'AverageOfUpperTRange', 'MaxOfLowerTRange', 'MinOfLowerTRange', 'AverageOfLowerTRange', 'RainingDays', 'AverageRainingDays', 'fruitset', 'fruitmass', 'seeds', 'yield']\n"
          ]
        }
      ]
    },
    {
      "cell_type": "code",
      "source": [
        "X = train.drop(columns=['yield', 'id'])  # Features\n",
        "y = train['yield']                         # Target\n",
        "test_ids = test['id']                    # Save test IDs for submission\n",
        "X_test = test.drop(columns=['id'])       # Test features\n"
      ],
      "metadata": {
        "id": "Sk7Ahpy2T6-9"
      },
      "execution_count": 17,
      "outputs": []
    },
    {
      "cell_type": "markdown",
      "source": [
        "# 4. Feature Engineering"
      ],
      "metadata": {
        "id": "n8qbepULULkp"
      }
    },
    {
      "cell_type": "code",
      "source": [
        "X['fruitset_x_fruitmass'] = X['fruitset'] * X['fruitmass']\n",
        "X['seeds_per_fruit'] = X['seeds'] / (X['fruitmass'] + 1e-6)\n",
        "X['total_bees'] = X['honeybee'] + X['bumbles'] + X['andrena'] + X['osmia']\n",
        "\n",
        "X_test['fruitset_x_fruitmass'] = X_test['fruitset'] * X_test['fruitmass']\n",
        "X_test['seeds_per_fruit'] = X_test['seeds'] / (X_test['fruitmass'] + 1e-6)\n",
        "X_test['total_bees'] = X_test['honeybee'] + X_test['bumbles'] + X_test['andrena'] + X_test['osmia']"
      ],
      "metadata": {
        "id": "v_atXShfUKfB"
      },
      "execution_count": 18,
      "outputs": []
    },
    {
      "cell_type": "code",
      "source": [
        "#Split training data\n",
        "X_train, X_val, y_train, y_val = train_test_split(X, y, test_size=0.2, random_state=42)"
      ],
      "metadata": {
        "id": "X-p1UwFyUU1E"
      },
      "execution_count": 19,
      "outputs": []
    },
    {
      "cell_type": "code",
      "source": [
        "models = {\n",
        "    'Linear Regression': LinearRegression(),\n",
        "    'Ridge': Ridge(alpha=1.0),\n",
        "    'Lasso': Lasso(alpha=0.1),\n",
        "    'ElasticNet': ElasticNet(alpha=0.1, l1_ratio=0.5)\n",
        "}\n",
        "\n",
        "# Store results\n",
        "results = []\n",
        "\n",
        "for name, model in models.items():\n",
        "    # Create pipeline with scaling\n",
        "    pipeline = Pipeline([\n",
        "        ('scaler', StandardScaler()),\n",
        "        ('model', model)\n",
        "    ])\n",
        "\n",
        "    # Fit\n",
        "    pipeline.fit(X_train, y_train)\n",
        "\n",
        "    # Predict on validation\n",
        "    y_pred = pipeline.predict(X_val)\n",
        "    mae = mean_absolute_error(y_val, y_pred)\n",
        "\n",
        "    results.append((name, mae))\n",
        "    print(f\"{name} - Validation MAE: {mae:.4f}\")\n",
        "\n"
      ],
      "metadata": {
        "id": "wGo3DWhGU3eX",
        "colab": {
          "base_uri": "https://localhost:8080/"
        },
        "outputId": "4ef793e2-fd15-4d3f-e0fb-c6d2f9ab0be5"
      },
      "execution_count": 20,
      "outputs": [
        {
          "output_type": "stream",
          "name": "stdout",
          "text": [
            "Linear Regression - Validation MAE: 369.2914\n",
            "Ridge - Validation MAE: 369.7115\n",
            "Lasso - Validation MAE: 370.5572\n",
            "ElasticNet - Validation MAE: 377.6202\n"
          ]
        }
      ]
    },
    {
      "cell_type": "code",
      "source": [
        "# Find best model\n",
        "results_df = pd.DataFrame(results, columns=['Model', 'MAE'])\n",
        "best_model_name = results_df.loc[results_df['MAE'].idxmin(), 'Model']\n",
        "print(f\"\\n Best Model: {best_model_name}\")\n",
        "\n",
        "# 5. Retrain Best Model on Full Training Data\n",
        "print(\"\\nRetraining best model on full training data.\")\n",
        "\n",
        "best_model = models[best_model_name]\n",
        "full_pipeline = Pipeline([\n",
        "    ('scaler', StandardScaler()),\n",
        "    ('model', best_model)\n",
        "])\n",
        "\n",
        "# Train on full training set\n",
        "full_pipeline.fit(X, y)\n",
        "\n",
        "# Predict on test set\n",
        "test_preds = full_pipeline.predict(X_test)\n",
        "\n",
        "# 6. Create Submission File\n",
        "\n",
        "submission = pd.DataFrame({\n",
        "    'id': test_ids,\n",
        "    'yield': test_preds\n",
        "})\n",
        "\n",
        "submission.to_csv('submission.csv', index=False)\n",
        "\n",
        "print(\"\\n Submission file created:\")\n",
        "print(submission.head())\n",
        "\n"
      ],
      "metadata": {
        "id": "TKLYcQhPVbek",
        "colab": {
          "base_uri": "https://localhost:8080/"
        },
        "outputId": "8ddf46b2-4ce8-4c07-dad5-45e779e8b30a"
      },
      "execution_count": 21,
      "outputs": [
        {
          "output_type": "stream",
          "name": "stdout",
          "text": [
            "\n",
            " Best Model: Linear Regression\n",
            "\n",
            "Retraining best model on full training data.\n",
            "\n",
            " Submission file created:\n",
            "      id        yield\n",
            "0  15289  4327.225082\n",
            "1  15290  6160.650198\n",
            "2  15291  7214.249573\n",
            "3  15292  5005.088708\n",
            "4  15293  3648.051840\n"
          ]
        }
      ]
    },
    {
      "cell_type": "code",
      "source": [
        "# Plot predicted yield distribution\n",
        "plt.figure(figsize=(8, 5))\n",
        "sns.histplot(submission['yield'], kde=True, bins=30)\n",
        "plt.title('Predicted Yield Distribution')\n",
        "plt.xlabel('Yield')\n",
        "plt.ylabel('Frequency')\n",
        "plt.show()"
      ],
      "metadata": {
        "id": "RgwvmnvQVf8L",
        "colab": {
          "base_uri": "https://localhost:8080/",
          "height": 487
        },
        "outputId": "c04955eb-5771-4461-964e-a1464741e1e9"
      },
      "execution_count": 22,
      "outputs": [
        {
          "output_type": "display_data",
          "data": {
            "text/plain": [
              "<Figure size 800x500 with 1 Axes>"
            ],
            "image/png": "[encoded data removed]"
          },
          "metadata": {}
        }
      ]
    }
  ]
}